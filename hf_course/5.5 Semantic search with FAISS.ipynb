{
 "cells": [
  {
   "cell_type": "markdown",
   "metadata": {
    "id": "lBrN6jQPM7T0"
   },
   "source": [
    "# Semantic search with FAISS"
   ]
  },
  {
   "cell_type": "markdown",
   "metadata": {
    "id": "H2NweCjNM7T1"
   },
   "source": [
    "Install the Transformers and Datasets libraries to run this notebook."
   ]
  },
  {
   "cell_type": "code",
   "execution_count": null,
   "metadata": {
    "id": "chfqn43bM7T2"
   },
   "outputs": [],
   "source": [
    "!pip install datasets transformers[sentencepiece]"
   ]
  },
  {
   "cell_type": "code",
   "execution_count": null,
   "metadata": {
    "id": "85yQ9scEM7T2"
   },
   "outputs": [],
   "source": [
    "from huggingface_hub import hf_hub_url\n",
    "\n",
    "data_files = hf_hub_url(\n",
    "    repo_id=\"lewtun/github-issues\",\n",
    "    filename=\"datasets-issues-with-comments.jsonl\",\n",
    "    repo_type=\"dataset\",\n",
    ")"
   ]
  },
  {
   "cell_type": "code",
   "execution_count": null,
   "metadata": {
    "id": "WaJ3br2gM7T3",
    "outputId": "f88a1a9e-ca00-425a-8d5e-22d1cd9c718b"
   },
   "outputs": [
    {
     "data": {
      "text/plain": [
       "Dataset({\n",
       "    features: ['url', 'repository_url', 'labels_url', 'comments_url', 'events_url', 'html_url', 'id', 'node_id', 'number', 'title', 'user', 'labels', 'state', 'locked', 'assignee', 'assignees', 'milestone', 'comments', 'created_at', 'updated_at', 'closed_at', 'author_association', 'active_lock_reason', 'pull_request', 'body', 'performed_via_github_app', 'is_pull_request'],\n",
       "    num_rows: 2855\n",
       "})"
      ]
     },
     "execution_count": null,
     "metadata": {},
     "output_type": "execute_result"
    }
   ],
   "source": [
    "from datasets import load_dataset\n",
    "\n",
    "issues_dataset = load_dataset(\"json\", data_files=data_files, split=\"train\")\n",
    "issues_dataset"
   ]
  },
  {
   "cell_type": "code",
   "execution_count": null,
   "metadata": {
    "id": "Tfp86bamM7T3",
    "outputId": "e73e3fad-05a5-4219-85d7-eda76f6ceb25"
   },
   "outputs": [
    {
     "data": {
      "text/plain": [
       "Dataset({\n",
       "    features: ['url', 'repository_url', 'labels_url', 'comments_url', 'events_url', 'html_url', 'id', 'node_id', 'number', 'title', 'user', 'labels', 'state', 'locked', 'assignee', 'assignees', 'milestone', 'comments', 'created_at', 'updated_at', 'closed_at', 'author_association', 'active_lock_reason', 'pull_request', 'body', 'performed_via_github_app', 'is_pull_request'],\n",
       "    num_rows: 771\n",
       "})"
      ]
     },
     "execution_count": null,
     "metadata": {},
     "output_type": "execute_result"
    }
   ],
   "source": [
    "issues_dataset = issues_dataset.filter(\n",
    "    lambda x: (x[\"is_pull_request\"] == False and len(x[\"comments\"]) > 0)\n",
    ")\n",
    "issues_dataset"
   ]
  },
  {
   "cell_type": "code",
   "execution_count": null,
   "metadata": {
    "id": "AdSDswqbM7T4",
    "outputId": "4b3dc704-ddca-4110-cc69-6dc42b15475b"
   },
   "outputs": [
    {
     "data": {
      "text/plain": [
       "Dataset({\n",
       "    features: ['html_url', 'title', 'comments', 'body'],\n",
       "    num_rows: 771\n",
       "})"
      ]
     },
     "execution_count": null,
     "metadata": {},
     "output_type": "execute_result"
    }
   ],
   "source": [
    "columns = issues_dataset.column_names\n",
    "columns_to_keep = [\"title\", \"body\", \"html_url\", \"comments\"]\n",
    "columns_to_remove = set(columns_to_keep).symmetric_difference(columns)\n",
    "issues_dataset = issues_dataset.remove_columns(columns_to_remove)\n",
    "issues_dataset"
   ]
  },
  {
   "cell_type": "code",
   "execution_count": null,
   "metadata": {
    "id": "dKsQfRmMM7T4"
   },
   "outputs": [],
   "source": [
    "issues_dataset.set_format(\"pandas\")\n",
    "df = issues_dataset[:]"
   ]
  },
  {
   "cell_type": "code",
   "execution_count": null,
   "metadata": {
    "id": "wkUgyMR4M7T4",
    "outputId": "f7a1f5c4-955c-4d5a-fe42-97dfccff5ff0"
   },
   "outputs": [
    {
     "data": {
      "text/plain": [
       "['the bug code locate in ：\\r\\n    if data_args.task_name is not None:\\r\\n        # Downloading and loading a dataset from the hub.\\r\\n        datasets = load_dataset(\"glue\", data_args.task_name, cache_dir=model_args.cache_dir)',\n",
       " 'Hi @jinec,\\r\\n\\r\\nFrom time to time we get this kind of `ConnectionError` coming from the github.com website: https://raw.githubusercontent.com\\r\\n\\r\\nNormally, it should work if you wait a little and then retry.\\r\\n\\r\\nCould you please confirm if the problem persists?',\n",
       " 'cannot connect，even by Web browser，please check that  there is some  problems。',\n",
       " 'I can access https://raw.githubusercontent.com/huggingface/datasets/1.7.0/datasets/glue/glue.py without problem...']"
      ]
     },
     "execution_count": null,
     "metadata": {},
     "output_type": "execute_result"
    }
   ],
   "source": [
    "df[\"comments\"][0].tolist()"
   ]
  },
  {
   "cell_type": "code",
   "execution_count": null,
   "metadata": {
    "id": "d0rJ1wpiM7T4"
   },
   "outputs": [],
   "source": [
    "comments_df = df.explode(\"comments\", ignore_index=True)\n",
    "comments_df.head(4)"
   ]
  },
  {
   "cell_type": "code",
   "execution_count": null,
   "metadata": {
    "id": "Uue-i65HM7T5",
    "outputId": "afb77123-8308-46e4-ece5-55e51b7589f4"
   },
   "outputs": [
    {
     "data": {
      "text/plain": [
       "Dataset({\n",
       "    features: ['html_url', 'title', 'comments', 'body'],\n",
       "    num_rows: 2842\n",
       "})"
      ]
     },
     "execution_count": null,
     "metadata": {},
     "output_type": "execute_result"
    }
   ],
   "source": [
    "comments_dataset = Dataset.from_pandas(comments_df)\n",
    "comments_dataset"
   ]
  },
  {
   "cell_type": "code",
   "execution_count": null,
   "metadata": {
    "id": "mN1B3ezRM7T5"
   },
   "outputs": [],
   "source": [
    "comments_dataset = comments_dataset.map(\n",
    "    lambda x: {\"comment_length\": len(x[\"comments\"].split())}\n",
    ")"
   ]
  },
  {
   "cell_type": "code",
   "execution_count": null,
   "metadata": {
    "id": "xF7CqV4nM7T5",
    "outputId": "64cff675-635c-4416-8ad6-9632697e0bd2"
   },
   "outputs": [
    {
     "data": {
      "text/plain": [
       "Dataset({\n",
       "    features: ['html_url', 'title', 'comments', 'body', 'comment_length'],\n",
       "    num_rows: 2098\n",
       "})"
      ]
     },
     "execution_count": null,
     "metadata": {},
     "output_type": "execute_result"
    }
   ],
   "source": [
    "comments_dataset = comments_dataset.filter(lambda x: x[\"comment_length\"] > 15)\n",
    "comments_dataset"
   ]
  },
  {
   "cell_type": "code",
   "execution_count": null,
   "metadata": {
    "id": "vaetgMyuM7T5"
   },
   "outputs": [],
   "source": [
    "def concatenate_text(examples):\n",
    "    return {\n",
    "        \"text\": examples[\"title\"]\n",
    "        + \" \\n \"\n",
    "        + examples[\"body\"]\n",
    "        + \" \\n \"\n",
    "        + examples[\"comments\"]\n",
    "    }\n",
    "\n",
    "\n",
    "comments_dataset = comments_dataset.map(concatenate_text)"
   ]
  },
  {
   "cell_type": "code",
   "execution_count": null,
   "metadata": {
    "id": "7o8yUj50M7T5"
   },
   "outputs": [],
   "source": [
    "from transformers import AutoTokenizer, AutoModel\n",
    "\n",
    "model_ckpt = \"sentence-transformers/multi-qa-mpnet-base-dot-v1\"\n",
    "tokenizer = AutoTokenizer.from_pretrained(model_ckpt)\n",
    "model = AutoModel.from_pretrained(model_ckpt)"
   ]
  },
  {
   "cell_type": "code",
   "execution_count": null,
   "metadata": {
    "id": "fRFBbPoyM7T5"
   },
   "outputs": [],
   "source": [
    "import torch\n",
    "\n",
    "device = torch.device(\"cuda\")\n",
    "model.to(device)"
   ]
  },
  {
   "cell_type": "code",
   "execution_count": null,
   "metadata": {
    "id": "wI1zRtnqM7T6"
   },
   "outputs": [],
   "source": [
    "def cls_pooling(model_output):\n",
    "    return model_output.last_hidden_state[:, 0]"
   ]
  },
  {
   "cell_type": "code",
   "execution_count": null,
   "metadata": {
    "id": "cS80681oM7T6"
   },
   "outputs": [],
   "source": [
    "def get_embeddings(text_list):\n",
    "    encoded_input = tokenizer(\n",
    "        text_list, padding=True, truncation=True, return_tensors=\"pt\"\n",
    "    )\n",
    "    encoded_input = {k: v.to(device) for k, v in encoded_input.items()}\n",
    "    model_output = model(**encoded_input)\n",
    "    return cls_pooling(model_output, encoded_input[\"attention_mask\"])"
   ]
  },
  {
   "cell_type": "code",
   "execution_count": null,
   "metadata": {
    "id": "MKxVENNYM7T6",
    "outputId": "4ce31517-9d53-4c48-df05-646a6433d4a4"
   },
   "outputs": [
    {
     "data": {
      "text/plain": [
       "torch.Size([1, 768])"
      ]
     },
     "execution_count": null,
     "metadata": {},
     "output_type": "execute_result"
    }
   ],
   "source": [
    "embedding = get_embeddings(explode_dataset[\"text\"][0])\n",
    "embedding.shape"
   ]
  },
  {
   "cell_type": "code",
   "execution_count": null,
   "metadata": {
    "id": "nsq2TAjaM7T6"
   },
   "outputs": [],
   "source": [
    "embeddings_dataset = explode_dataset.map(\n",
    "    lambda x: {\"embeddings\": get_embeddings(x[\"text\"]).cpu().numpy()[0]}\n",
    ")"
   ]
  },
  {
   "cell_type": "code",
   "execution_count": null,
   "metadata": {
    "id": "sAG92YUUM7T6"
   },
   "outputs": [],
   "source": [
    "embeddings_dataset.add_faiss_index(column=\"embeddings\")"
   ]
  },
  {
   "cell_type": "code",
   "execution_count": null,
   "metadata": {
    "id": "nt6x_-WzM7T7",
    "outputId": "6a5c6fde-8818-48e2-a921-1b4462a1b36c"
   },
   "outputs": [
    {
     "data": {
      "text/plain": [
       "torch.Size([1, 768])"
      ]
     },
     "execution_count": null,
     "metadata": {},
     "output_type": "execute_result"
    }
   ],
   "source": [
    "question = \"How can I load a dataset offline?\"\n",
    "question_embedding = get_embeddings([question]).cpu().detach().numpy()\n",
    "question_embedding.shape"
   ]
  },
  {
   "cell_type": "code",
   "execution_count": null,
   "metadata": {
    "id": "cB9wuVjvM7T7"
   },
   "outputs": [],
   "source": [
    "scores, samples = embeddings_dataset.get_nearest_examples(\n",
    "    \"embeddings\", question_embedding, k=5\n",
    ")"
   ]
  },
  {
   "cell_type": "code",
   "execution_count": null,
   "metadata": {
    "id": "2ILFibiMM7T7"
   },
   "outputs": [],
   "source": [
    "samples_df = pd.DataFrame.from_dict(samples)\n",
    "samples_df[\"scores\"] = scores\n",
    "samples_df.sort_values(\"scores\", ascending=False, inplace=True)"
   ]
  },
  {
   "cell_type": "code",
   "execution_count": null,
   "metadata": {
    "id": "DgaK_C4GM7T7",
    "outputId": "d3508b0c-28f7-42ed-f4b5-fdd8cb1cd592"
   },
   "outputs": [
    {
     "data": {
      "text/plain": [
       "\"\"\"\n",
       "COMMENT: Requiring online connection is a deal breaker in some cases unfortunately so it'd be great if offline mode is added similar to how `transformers` loads models offline fine.\n",
       "\n",
       "@mandubian's second bullet point suggests that there's a workaround allowing you to use your offline (custom?) dataset with `datasets`. Could you please elaborate on how that should look like?\n",
       "SCORE: 25.505046844482422\n",
       "TITLE: Discussion using datasets in offline mode\n",
       "URL: https://github.com/huggingface/datasets/issues/824\n",
       "==================================================\n",
       "\n",
       "COMMENT: The local dataset builders (csv, text , json and pandas) are now part of the `datasets` package since #1726 :)\n",
       "You can now use them offline\n",
       "\\`\\`\\`python\n",
       "datasets = load_dataset(\"text\", data_files=data_files)\n",
       "\\`\\`\\`\n",
       "\n",
       "We'll do a new release soon\n",
       "SCORE: 24.555509567260742\n",
       "TITLE: Discussion using datasets in offline mode\n",
       "URL: https://github.com/huggingface/datasets/issues/824\n",
       "==================================================\n",
       "\n",
       "COMMENT: I opened a PR that allows to reload modules that have already been loaded once even if there's no internet.\n",
       "\n",
       "Let me know if you know other ways that can make the offline mode experience better. I'd be happy to add them :)\n",
       "\n",
       "I already note the \"freeze\" modules option, to prevent local modules updates. It would be a cool feature.\n",
       "\n",
       "----------\n",
       "\n",
       "> @mandubian's second bullet point suggests that there's a workaround allowing you to use your offline (custom?) dataset with `datasets`. Could you please elaborate on how that should look like?\n",
       "\n",
       "Indeed `load_dataset` allows to load remote dataset script (squad, glue, etc.) but also you own local ones.\n",
       "For example if you have a dataset script at `./my_dataset/my_dataset.py` then you can do\n",
       "\\`\\`\\`python\n",
       "load_dataset(\"./my_dataset\")\n",
       "\\`\\`\\`\n",
       "and the dataset script will generate your dataset once and for all.\n",
       "\n",
       "----------\n",
       "\n",
       "About I'm looking into having `csv`, `json`, `text`, `pandas` dataset builders already included in the `datasets` package, so that they are available offline by default, as opposed to the other datasets that require the script to be downloaded.\n",
       "cf #1724\n",
       "SCORE: 24.14896583557129\n",
       "TITLE: Discussion using datasets in offline mode\n",
       "URL: https://github.com/huggingface/datasets/issues/824\n",
       "==================================================\n",
       "\n",
       "COMMENT: > here is my way to load a dataset offline, but it **requires** an online machine\n",
       ">\n",
       "> 1. (online machine)\n",
       ">\n",
       "> ```\n",
       ">\n",
       "> import datasets\n",
       ">\n",
       "> data = datasets.load_dataset(...)\n",
       ">\n",
       "> data.save_to_disk(/YOUR/DATASET/DIR)\n",
       ">\n",
       "> ```\n",
       ">\n",
       "> 2. copy the dir from online to the offline machine\n",
       ">\n",
       "> 3. (offline machine)\n",
       ">\n",
       "> ```\n",
       ">\n",
       "> import datasets\n",
       ">\n",
       "> data = datasets.load_from_disk(/SAVED/DATA/DIR)\n",
       ">\n",
       "> ```\n",
       ">\n",
       ">\n",
       ">\n",
       "> HTH.\n",
       "\n",
       "\n",
       "SCORE: 22.893993377685547\n",
       "TITLE: Discussion using datasets in offline mode\n",
       "URL: https://github.com/huggingface/datasets/issues/824\n",
       "==================================================\n",
       "\n",
       "COMMENT: here is my way to load a dataset offline, but it **requires** an online machine\n",
       "1. (online machine)\n",
       "\\`\\`\\`\n",
       "import datasets\n",
       "data = datasets.load_dataset(...)\n",
       "data.save_to_disk(/YOUR/DATASET/DIR)\n",
       "\\`\\`\\`\n",
       "2. copy the dir from online to the offline machine\n",
       "3. (offline machine)\n",
       "\\`\\`\\`\n",
       "import datasets\n",
       "data = datasets.load_from_disk(/SAVED/DATA/DIR)\n",
       "\\`\\`\\`\n",
       "\n",
       "HTH.\n",
       "SCORE: 22.406635284423828\n",
       "TITLE: Discussion using datasets in offline mode\n",
       "URL: https://github.com/huggingface/datasets/issues/824\n",
       "==================================================\n",
       "\"\"\""
      ]
     },
     "execution_count": null,
     "metadata": {},
     "output_type": "execute_result"
    }
   ],
   "source": [
    "for _, row in samples_df.iterrows():\n",
    "    print(f\"COMMENT: {row.comments}\")\n",
    "    print(f\"SCORE: {row.scores}\")\n",
    "    print(f\"TITLE: {row.title}\")\n",
    "    print(f\"URL: {row.html_url}\")\n",
    "    print(\"=\" * 50)\n",
    "    print()"
   ]
  }
 ],
 "metadata": {
  "colab": {
   "name": "Semantic search with FAISS",
   "provenance": []
  },
  "kernelspec": {
   "display_name": "hf",
   "language": "python",
   "name": "hf"
  },
  "language_info": {
   "codemirror_mode": {
    "name": "ipython",
    "version": 3
   },
   "file_extension": ".py",
   "mimetype": "text/x-python",
   "name": "python",
   "nbconvert_exporter": "python",
   "pygments_lexer": "ipython3",
   "version": "3.9.5"
  }
 },
 "nbformat": 4,
 "nbformat_minor": 4
}
